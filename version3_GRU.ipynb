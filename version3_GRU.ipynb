{
 "cells": [
  {
   "cell_type": "code",
   "execution_count": 33,
   "metadata": {},
   "outputs": [
    {
     "name": "stdout",
     "output_type": "stream",
     "text": [
      "Requirement already satisfied: gensim in c:\\g\\pproject\\aimbot\\bot\\bot\\lib\\site-packages (4.3.2)"
     ]
    },
    {
     "name": "stderr",
     "output_type": "stream",
     "text": [
      "WARNING: Ignoring invalid distribution -rotobuf (c:\\g\\pproject\\aimbot\\bot\\bot\\lib\\site-packages)\n",
      "WARNING: Ignoring invalid distribution -ywin32 (c:\\g\\pproject\\aimbot\\bot\\bot\\lib\\site-packages)\n",
      "WARNING: Ignoring invalid distribution -rotobuf (c:\\g\\pproject\\aimbot\\bot\\bot\\lib\\site-packages)\n",
      "WARNING: Ignoring invalid distribution -ywin32 (c:\\g\\pproject\\aimbot\\bot\\bot\\lib\\site-packages)\n",
      "\n",
      "[notice] A new release of pip is available: 23.1.2 -> 24.0\n",
      "[notice] To update, run: python.exe -m pip install --upgrade pip\n"
     ]
    },
    {
     "name": "stdout",
     "output_type": "stream",
     "text": [
      "\n",
      "Requirement already satisfied: numpy>=1.18.5 in c:\\g\\pproject\\aimbot\\bot\\bot\\lib\\site-packages (from gensim) (1.23.5)\n",
      "Requirement already satisfied: scipy>=1.7.0 in c:\\g\\pproject\\aimbot\\bot\\bot\\lib\\site-packages (from gensim) (1.10.1)\n",
      "Requirement already satisfied: smart-open>=1.8.1 in c:\\g\\pproject\\aimbot\\bot\\bot\\lib\\site-packages (from gensim) (6.4.0)\n"
     ]
    }
   ],
   "source": [
    "!pip install gensim "
   ]
  },
  {
   "cell_type": "markdown",
   "metadata": {},
   "source": [
    "!pip install gensim "
   ]
  },
  {
   "cell_type": "code",
   "execution_count": 34,
   "metadata": {},
   "outputs": [
    {
     "name": "stdout",
     "output_type": "stream",
     "text": [
      "Requirement already satisfied: snowballstemmer in c:\\g\\pproject\\aimbot\\bot\\bot\\lib\\site-packages (2.2.0)\n"
     ]
    },
    {
     "name": "stderr",
     "output_type": "stream",
     "text": [
      "WARNING: Ignoring invalid distribution -rotobuf (c:\\g\\pproject\\aimbot\\bot\\bot\\lib\\site-packages)\n",
      "WARNING: Ignoring invalid distribution -ywin32 (c:\\g\\pproject\\aimbot\\bot\\bot\\lib\\site-packages)\n",
      "WARNING: Ignoring invalid distribution -rotobuf (c:\\g\\pproject\\aimbot\\bot\\bot\\lib\\site-packages)\n",
      "WARNING: Ignoring invalid distribution -ywin32 (c:\\g\\pproject\\aimbot\\bot\\bot\\lib\\site-packages)\n",
      "\n",
      "[notice] A new release of pip is available: 23.1.2 -> 24.0\n",
      "[notice] To update, run: python.exe -m pip install --upgrade pip\n"
     ]
    }
   ],
   "source": [
    "!pip install snowballstemmer"
   ]
  },
  {
   "cell_type": "code",
   "execution_count": 35,
   "metadata": {},
   "outputs": [
    {
     "name": "stdout",
     "output_type": "stream",
     "text": [
      "Stemmed Text: तीन, कुत्ते, बर्फ, बीच, आदमी, सायकल, खींच\n"
     ]
    }
   ],
   "source": [
    "from snowballstemmer import stemmer\n",
    "\n",
    "def hindi_stemming(text):\n",
    "    stemmer_obj = stemmer(\"hindi\")\n",
    "    \n",
    "    words = text.split()\n",
    "    \n",
    "    stemmed_words = []\n",
    "    for word in words:\n",
    "        stemmed_word = stemmer_obj.stemWord(word)\n",
    "        stemmed_words.append(stemmed_word)\n",
    "    \n",
    "    stemmed_text = ' '.join(stemmed_words)\n",
    "    \n",
    "    return stemmed_text\n",
    "\n",
    "input_text = \"तीन, कुत्ते, बर्फ, बीच, आदमी, सायकल, खींचते\"\n",
    "stemmed_text = hindi_stemming(input_text)\n",
    "print(\"Stemmed Text:\", stemmed_text)\n"
   ]
  },
  {
   "cell_type": "code",
   "execution_count": 36,
   "metadata": {},
   "outputs": [
    {
     "name": "stdout",
     "output_type": "stream",
     "text": [
      "Semantic similarity between 'king' and 'queen': 0.7401665\n"
     ]
    }
   ],
   "source": [
    "import gensim.downloader as api\n",
    "\n",
    "# Download the pre-trained Word2Vec model\n",
    "model = api.load('word2vec-google-news-300')\n",
    "\n",
    "# Calculate similarity between two words\n",
    "similarity = model.similarity('sat', 'sitting')\n",
    "print(\"Semantic similarity between 'king' and 'queen':\", similarity)\n"
   ]
  },
  {
   "cell_type": "code",
   "execution_count": 37,
   "metadata": {},
   "outputs": [
    {
     "name": "stdout",
     "output_type": "stream",
     "text": [
      "Semantic similarity between 'king' and 'queen': 0.24436677\n"
     ]
    }
   ],
   "source": [
    "# Calculate similarity between two words\n",
    "similarity = model.similarity('human', 'cat')\n",
    "print(\"Semantic similarity between 'king' and 'queen':\", similarity)"
   ]
  },
  {
   "cell_type": "code",
   "execution_count": null,
   "metadata": {},
   "outputs": [],
   "source": []
  },
  {
   "cell_type": "code",
   "execution_count": null,
   "metadata": {},
   "outputs": [],
   "source": []
  },
  {
   "cell_type": "code",
   "execution_count": null,
   "metadata": {},
   "outputs": [],
   "source": []
  },
  {
   "cell_type": "code",
   "execution_count": null,
   "metadata": {},
   "outputs": [],
   "source": []
  },
  {
   "cell_type": "code",
   "execution_count": null,
   "metadata": {},
   "outputs": [],
   "source": []
  }
 ],
 "metadata": {
  "kernelspec": {
   "display_name": "bot",
   "language": "python",
   "name": "python3"
  },
  "language_info": {
   "codemirror_mode": {
    "name": "ipython",
    "version": 3
   },
   "file_extension": ".py",
   "mimetype": "text/x-python",
   "name": "python",
   "nbconvert_exporter": "python",
   "pygments_lexer": "ipython3",
   "version": "3.9.12"
  }
 },
 "nbformat": 4,
 "nbformat_minor": 2
}
